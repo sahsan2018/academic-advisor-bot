{
 "cells": [
  {
   "cell_type": "markdown",
   "metadata": {
    "id": "view-in-github"
   },
   "source": [
    "<a href=\"https://colab.research.google.com/github/sunnysavita10/Generative-AI-Indepth-Basic-to-Advance/blob/main/RAG_with_Conversation.ipynb\" target=\"_parent\"><img src=\"https://colab.research.google.com/assets/colab-badge.svg\" alt=\"Open In Colab\"/></a>"
   ]
  },
  {
   "cell_type": "code",
   "execution_count": null,
   "metadata": {},
   "outputs": [],
   "source": [
    "import streamlit as st\n",
    "\n",
    "os.environ[\"OPENAI_API_KEY\"] = st.secrets[\"OPENAI_API_KEY\"]"
   ]
  },
  {
   "cell_type": "code",
   "execution_count": 9,
   "metadata": {},
   "outputs": [
    {
     "name": "stdout",
     "output_type": "stream",
     "text": [
      "Note: you may need to restart the kernel to use updated packages.\n"
     ]
    },
    {
     "name": "stderr",
     "output_type": "stream",
     "text": [
      "WARNING: Skipping c:\\Users\\PMLS\\.pyenv\\pyenv-win\\versions\\3.11.8\\Lib\\site-packages\\langchain-0.3.7.dist-info due to invalid metadata entry 'name'\n",
      "WARNING: Skipping c:\\Users\\PMLS\\.pyenv\\pyenv-win\\versions\\3.11.8\\Lib\\site-packages\\langchain-0.3.7.dist-info due to invalid metadata entry 'name'\n",
      "WARNING: Retrying (Retry(total=4, connect=None, read=None, redirect=None, status=None)) after connection broken by 'ReadTimeoutError(\"HTTPSConnectionPool(host='pypi.org', port=443): Read timed out. (read timeout=15)\")': /simple/langchain-openai/\n",
      "WARNING: Retrying (Retry(total=3, connect=None, read=None, redirect=None, status=None)) after connection broken by 'ReadTimeoutError(\"HTTPSConnectionPool(host='pypi.org', port=443): Read timed out. (read timeout=15)\")': /simple/langchain-openai/\n",
      "WARNING: Retrying (Retry(total=2, connect=None, read=None, redirect=None, status=None)) after connection broken by 'ConnectTimeoutError(<pip._vendor.urllib3.connection.HTTPSConnection object at 0x0000017A84929990>, 'Connection to pypi.org timed out. (connect timeout=15)')': /simple/langchain-openai/\n",
      "WARNING: Retrying (Retry(total=1, connect=None, read=None, redirect=None, status=None)) after connection broken by 'ReadTimeoutError(\"HTTPSConnectionPool(host='pypi.org', port=443): Read timed out. (read timeout=15)\")': /simple/langchain-openai/\n",
      "WARNING: Retrying (Retry(total=0, connect=None, read=None, redirect=None, status=None)) after connection broken by 'ConnectTimeoutError(<pip._vendor.urllib3.connection.HTTPSConnection object at 0x0000017A8491B1D0>, 'Connection to pypi.org timed out. (connect timeout=15)')': /simple/langchain-openai/\n",
      "WARNING: Skipping c:\\Users\\PMLS\\.pyenv\\pyenv-win\\versions\\3.11.8\\Lib\\site-packages\\langchain-0.3.7.dist-info due to invalid metadata entry 'name'\n",
      "WARNING: Skipping c:\\Users\\PMLS\\.pyenv\\pyenv-win\\versions\\3.11.8\\Lib\\site-packages\\langchain-0.3.7.dist-info due to invalid metadata entry 'name'\n",
      "WARNING: Skipping c:\\Users\\PMLS\\.pyenv\\pyenv-win\\versions\\3.11.8\\Lib\\site-packages\\langchain-0.3.7.dist-info due to invalid metadata entry 'name'\n",
      "WARNING: Skipping c:\\Users\\PMLS\\.pyenv\\pyenv-win\\versions\\3.11.8\\Lib\\site-packages\\langchain-0.3.7.dist-info due to invalid metadata entry 'name'\n",
      "\n",
      "[notice] A new release of pip is available: 24.0 -> 24.3.1\n",
      "[notice] To update, run: c:\\Users\\PMLS\\.pyenv\\pyenv-win\\versions\\3.11.8\\python.exe -m pip install --upgrade pip\n"
     ]
    }
   ],
   "source": [
    "%pip install -qU langchain-openai"
   ]
  },
  {
   "cell_type": "code",
   "execution_count": 7,
   "metadata": {},
   "outputs": [
    {
     "name": "stdout",
     "output_type": "stream",
     "text": [
      "Note: you may need to restart the kernel to use updated packages.\n"
     ]
    },
    {
     "name": "stderr",
     "output_type": "stream",
     "text": [
      "WARNING: Skipping c:\\Users\\PMLS\\.pyenv\\pyenv-win\\versions\\3.11.8\\Lib\\site-packages\\langchain-0.3.7.dist-info due to invalid metadata entry 'name'\n",
      "WARNING: Skipping c:\\Users\\PMLS\\.pyenv\\pyenv-win\\versions\\3.11.8\\Lib\\site-packages\\langchain-0.3.7.dist-info due to invalid metadata entry 'name'\n",
      "WARNING: Skipping c:\\Users\\PMLS\\.pyenv\\pyenv-win\\versions\\3.11.8\\Lib\\site-packages\\langchain-0.3.7.dist-info due to invalid metadata entry 'name'\n",
      "WARNING: Skipping c:\\Users\\PMLS\\.pyenv\\pyenv-win\\versions\\3.11.8\\Lib\\site-packages\\langchain-0.3.7.dist-info due to invalid metadata entry 'name'\n",
      "WARNING: Skipping c:\\Users\\PMLS\\.pyenv\\pyenv-win\\versions\\3.11.8\\Lib\\site-packages\\langchain-0.3.7.dist-info due to invalid metadata entry 'name'\n",
      "WARNING: Skipping c:\\Users\\PMLS\\.pyenv\\pyenv-win\\versions\\3.11.8\\Lib\\site-packages\\langchain-0.3.7.dist-info due to invalid metadata entry 'name'\n",
      "\n",
      "[notice] A new release of pip is available: 24.0 -> 24.3.1\n",
      "[notice] To update, run: c:\\Users\\PMLS\\.pyenv\\pyenv-win\\versions\\3.11.8\\python.exe -m pip install --upgrade pip\n"
     ]
    }
   ],
   "source": [
    "%pip install -qU pypdf"
   ]
  },
  {
   "cell_type": "code",
   "execution_count": 2,
   "metadata": {},
   "outputs": [],
   "source": [
    "from langchain_openai import OpenAIEmbeddings\n",
    "\n",
    "embeddings = OpenAIEmbeddings(\n",
    "    model=\"text-embedding-3-large\"\n",
    "  \n",
    ")"
   ]
  },
  {
   "cell_type": "code",
   "execution_count": 3,
   "metadata": {},
   "outputs": [],
   "source": [
    "file_path = (\n",
    "    r\"ADVISE2.pdf\"\n",
    ")"
   ]
  },
  {
   "cell_type": "code",
   "execution_count": 4,
   "metadata": {},
   "outputs": [],
   "source": [
    "from langchain_community.document_loaders import PyPDFLoader\n",
    "\n",
    "loader = PyPDFLoader(file_path)\n",
    "pages = []\n",
    "async for page in loader.alazy_load():\n",
    "    pages.append(page)"
   ]
  },
  {
   "cell_type": "code",
   "execution_count": 5,
   "metadata": {},
   "outputs": [
    {
     "data": {
      "text/plain": [
       "[Document(metadata={'source': 'C:\\\\Users\\\\PMLS\\\\Desktop\\\\ragwith memory\\\\trainingfile\\\\ADVISE2.pdf', 'page': 0}, page_content=\" \\nHere's the information about classes can be taken by students  \\nto complete degree in Computer Engineering Technology from \\nfirst semester to eight semester.  \\nSome notes to be checked: Prerequisites means classes that must be taken prior to any \\nclass, and corequisite means classes that can either be taken before the class or along \\nwith the desired class.  \\n*********The courses of the CET department have been changed. Instead of EMT all \\nclasses will be named by CET . New Curriculum will be start from spring 2025. The students \\nwho are already taking EMT classes will have to take CET classes from next semester. If any \\nstudent fails EMT1111 (1cr),  he has to retake CET 1111 (2cr). If failed EMT1130 (1cr), retake \\nCET 1100 (2cr).If failed EMT1150 (5cr), retake CET 1150 (3cr).  If failed EMT 1220 (4cr), \\nretake CET 2312 (4cr).  If failed EMT 1255 (4cr), retake CET 2350 ( 4cr). If failed EMT 2320 \\n(5cr), retake CET 2450 (3cr).  ******** \\n \\nFirst Semester: \\nThe classes available for the first semester are:  \\n1. CET 1100  (2 cr) \\n2. CET 1111 (3 cr) \\n3. CET 1120 (1 cr) \\n4. CET 1150  (3 cr) \\n5. MAT 1275 (4 cr) \\n6. ENG 1101 ( 3 cr). \\nThe prerequisites and corequisite for these classes are as follows: \\n• Prerequisite or co requisite of CET 1111  is CET 1100  that means either student has \\nto take CET 1100 before taking CET 1111 or they can be taken together in same \\nsemester.  \\n• Prerequisite of ENG 1101 is English Composition 1 . \\n• Prerequisite or corequisite of CET 1150 is MAT 1275 . \\n \\n \\n \"),\n",
       " Document(metadata={'source': 'C:\\\\Users\\\\PMLS\\\\Desktop\\\\ragwith memory\\\\trainingfile\\\\ADVISE2.pdf', 'page': 1}, page_content='Second Semester: \\nThe classes available for the second semester are: \\n1. CET 1211 (2 cr) \\n2. CET 1250 (4 cr) \\n3. ENG 1121 (3 cr) \\n4. MAT 1375 (4 cr) \\n5. Flex core 1 (3 cr)  \\nThe prerequisites for these classes are as follows: \\n• Prerequisite of CET 1211 IS CET 1111.   \\n• Prerequisite/COREQUISOTE of CET 1211 is MAT 1275.  \\n• The prerequisite of CET 1250 is CET 1150.  \\n \\nThird Semester: \\nThe classes available for the third semester are: \\n1. CET 2312 (4 cr) \\n2. CET 2350 (4 cr) \\n3. CET 2370  (2 cr) \\n4. CET 2390  (1 cr) \\n5. PHY 1433 (4 cr) \\nThe prerequisites are as follows: \\n• Prerequisite of CET 2312 IS CET 1120.  \\n• Prerequisite or corequisite of CET 2312 is PHY 1433.  \\n• Prerequisite/corequisite of CET 2350 is CET 1250 and MAT 1375.  \\n• The prerequisite of CET 2370 is CET 1250.  \\n• Prerequisite/corequisite of CET 2390 is CET 2370.  \\n• Prerequisite of PHY 1433 is MAT 1275.  \\n \\nFourth Semester: \\nThe available classes for the fourth semester are: \\n1. CET 2450  (3 cr) \\n2. CET 2455  (2 cr) '),\n",
       " Document(metadata={'source': 'C:\\\\Users\\\\PMLS\\\\Desktop\\\\ragwith memory\\\\trainingfile\\\\ADVISE2.pdf', 'page': 2}, page_content='3. CET 2461  (2 cr) \\n4. TECH ELECTIVE \\n5. MAT 1475  (4 cr) \\n6. FLEX CORE 2 (3 cr) \\nThe prerequisites are as follows: \\n• The prerequisite of CET 2450 is CET 2350   \\n• The prerequisite of CET 2455 are CET 2370,  \\n• Prerequisite/corequisite of CET 2461 is CET 2455, MAT 1475.  \\n \\nFifth Semester: \\nThe available classes for the fifth semester are: \\n1. CET 3510 (4 cr) \\n2. CET 3525 (4cr) \\n3. MAT 1575 (4cr) \\n4. PHY 1434(3 cr) \\nThe prerequisites are as follows: \\n• Prerequisite of CET 3510 are a previous course in digital electronics, CET 3510 has \\nprerequisite or co-requisites of CET 2411 or CST 2403 and MAT 1575 or higher  \\n• Prerequisite or corequisite of CET 3525 is MAT 1575,  \\n• Prerequisite of MAT 1575 is MAT 1475. \\n \\nSixth Semester: \\nThe available classes for the sixth semester are: \\n1. MAT 2680 (3 cr) \\n2. CET 3615 (4cr) \\n3. CET 3625 (1 cr) \\n4. CET 3640 (3 cr) \\n5. Flex Core 3 \\n6. COM 1330 (3cr)  \\nThe prerequisites are as follows: \\n• The prerequisite of MAT 2680 is MAT 1575,  '),\n",
       " Document(metadata={'source': 'C:\\\\Users\\\\PMLS\\\\Desktop\\\\ragwith memory\\\\trainingfile\\\\ADVISE2.pdf', 'page': 3}, page_content='• Prerequisites for CET 3615 are MAT 1575, CET 3525, and PHYS 1434 or PHYS 1442.  \\n• The prerequisite of CET 3625 is CET 3525 . \\n• Prerequisite or corequisite of CET 3625 is MAT 2680 . \\n• The prerequisites of CET 3640 are CET 2411  and CET 3510 . \\n \\nSeventh Semester: \\nThe classes available for the seventh semester are:  \\n1. CET 4711 (2 cr) \\n2. MAT 2580  (3 cr) \\n3. CET 4705 (2 cr) \\n4. CET 4773 (4 cr) \\n5. T echnical elective 1 (4 cr) \\n6. Flex Core 4 \\nThe prerequisites are as follows: \\n• Prerequisite and co-requisite of CET 4711 are CET 3640  and CET 4705  \\n• Prerequisite of CET 4705 is CET 3625 with a grade of C or better. \\n• Prerequisite of CET 4773 is CET 3510.  \\n• Prerequisite or Corequisite of MAT 2580 is MAT 1575.  \\n \\nEighth Semester: \\nThe classes available for the eighth semester are: \\n1. Technical Elective 2 (3 cr) \\n2. CET 4811  (2 cr) \\n3. CET 4805 (2 cr) \\n4. CET 4864 (4 cr). \\n5. ID Course \\nThe prerequisites and corequisites are as follows: \\n• Prerequisites of CET 4811 are CET 3640 , CET 4711 . \\n• Prerequisites or corequisite of EMT 4811 are CET 4773, CET 4805, CET 4864 .  \\n• Prerequisite of CET 4805 is CET 4705  \\n• Prerequisites of CET 4864 are CET 3625, MAT 2580  '),\n",
       " Document(metadata={'source': 'C:\\\\Users\\\\PMLS\\\\Desktop\\\\ragwith memory\\\\trainingfile\\\\ADVISE2.pdf', 'page': 4}, page_content=' \\n \\n \\n ')]"
      ]
     },
     "execution_count": 5,
     "metadata": {},
     "output_type": "execute_result"
    }
   ],
   "source": [
    "pages"
   ]
  },
  {
   "cell_type": "code",
   "execution_count": 6,
   "metadata": {},
   "outputs": [],
   "source": [
    "from langchain_text_splitters import RecursiveCharacterTextSplitter"
   ]
  },
  {
   "cell_type": "code",
   "execution_count": 7,
   "metadata": {},
   "outputs": [],
   "source": [
    "text_splitter = RecursiveCharacterTextSplitter()\n",
    "documents = text_splitter.split_documents(pages)"
   ]
  },
  {
   "cell_type": "code",
   "execution_count": 8,
   "metadata": {},
   "outputs": [
    {
     "data": {
      "text/plain": [
       "[Document(metadata={'source': 'C:\\\\Users\\\\PMLS\\\\Desktop\\\\ragwith memory\\\\trainingfile\\\\ADVISE2.pdf', 'page': 0}, page_content=\"Here's the information about classes can be taken by students  \\nto complete degree in Computer Engineering Technology from \\nfirst semester to eight semester.  \\nSome notes to be checked: Prerequisites means classes that must be taken prior to any \\nclass, and corequisite means classes that can either be taken before the class or along \\nwith the desired class.  \\n*********The courses of the CET department have been changed. Instead of EMT all \\nclasses will be named by CET . New Curriculum will be start from spring 2025. The students \\nwho are already taking EMT classes will have to take CET classes from next semester. If any \\nstudent fails EMT1111 (1cr),  he has to retake CET 1111 (2cr). If failed EMT1130 (1cr), retake \\nCET 1100 (2cr).If failed EMT1150 (5cr), retake CET 1150 (3cr).  If failed EMT 1220 (4cr), \\nretake CET 2312 (4cr).  If failed EMT 1255 (4cr), retake CET 2350 ( 4cr). If failed EMT 2320 \\n(5cr), retake CET 2450 (3cr).  ******** \\n \\nFirst Semester: \\nThe classes available for the first semester are:  \\n1. CET 1100  (2 cr) \\n2. CET 1111 (3 cr) \\n3. CET 1120 (1 cr) \\n4. CET 1150  (3 cr) \\n5. MAT 1275 (4 cr) \\n6. ENG 1101 ( 3 cr). \\nThe prerequisites and corequisite for these classes are as follows: \\n• Prerequisite or co requisite of CET 1111  is CET 1100  that means either student has \\nto take CET 1100 before taking CET 1111 or they can be taken together in same \\nsemester.  \\n• Prerequisite of ENG 1101 is English Composition 1 . \\n• Prerequisite or corequisite of CET 1150 is MAT 1275 .\"),\n",
       " Document(metadata={'source': 'C:\\\\Users\\\\PMLS\\\\Desktop\\\\ragwith memory\\\\trainingfile\\\\ADVISE2.pdf', 'page': 1}, page_content='Second Semester: \\nThe classes available for the second semester are: \\n1. CET 1211 (2 cr) \\n2. CET 1250 (4 cr) \\n3. ENG 1121 (3 cr) \\n4. MAT 1375 (4 cr) \\n5. Flex core 1 (3 cr)  \\nThe prerequisites for these classes are as follows: \\n• Prerequisite of CET 1211 IS CET 1111.   \\n• Prerequisite/COREQUISOTE of CET 1211 is MAT 1275.  \\n• The prerequisite of CET 1250 is CET 1150.  \\n \\nThird Semester: \\nThe classes available for the third semester are: \\n1. CET 2312 (4 cr) \\n2. CET 2350 (4 cr) \\n3. CET 2370  (2 cr) \\n4. CET 2390  (1 cr) \\n5. PHY 1433 (4 cr) \\nThe prerequisites are as follows: \\n• Prerequisite of CET 2312 IS CET 1120.  \\n• Prerequisite or corequisite of CET 2312 is PHY 1433.  \\n• Prerequisite/corequisite of CET 2350 is CET 1250 and MAT 1375.  \\n• The prerequisite of CET 2370 is CET 1250.  \\n• Prerequisite/corequisite of CET 2390 is CET 2370.  \\n• Prerequisite of PHY 1433 is MAT 1275.  \\n \\nFourth Semester: \\nThe available classes for the fourth semester are: \\n1. CET 2450  (3 cr) \\n2. CET 2455  (2 cr)'),\n",
       " Document(metadata={'source': 'C:\\\\Users\\\\PMLS\\\\Desktop\\\\ragwith memory\\\\trainingfile\\\\ADVISE2.pdf', 'page': 2}, page_content='3. CET 2461  (2 cr) \\n4. TECH ELECTIVE \\n5. MAT 1475  (4 cr) \\n6. FLEX CORE 2 (3 cr) \\nThe prerequisites are as follows: \\n• The prerequisite of CET 2450 is CET 2350   \\n• The prerequisite of CET 2455 are CET 2370,  \\n• Prerequisite/corequisite of CET 2461 is CET 2455, MAT 1475.  \\n \\nFifth Semester: \\nThe available classes for the fifth semester are: \\n1. CET 3510 (4 cr) \\n2. CET 3525 (4cr) \\n3. MAT 1575 (4cr) \\n4. PHY 1434(3 cr) \\nThe prerequisites are as follows: \\n• Prerequisite of CET 3510 are a previous course in digital electronics, CET 3510 has \\nprerequisite or co-requisites of CET 2411 or CST 2403 and MAT 1575 or higher  \\n• Prerequisite or corequisite of CET 3525 is MAT 1575,  \\n• Prerequisite of MAT 1575 is MAT 1475. \\n \\nSixth Semester: \\nThe available classes for the sixth semester are: \\n1. MAT 2680 (3 cr) \\n2. CET 3615 (4cr) \\n3. CET 3625 (1 cr) \\n4. CET 3640 (3 cr) \\n5. Flex Core 3 \\n6. COM 1330 (3cr)  \\nThe prerequisites are as follows: \\n• The prerequisite of MAT 2680 is MAT 1575,'),\n",
       " Document(metadata={'source': 'C:\\\\Users\\\\PMLS\\\\Desktop\\\\ragwith memory\\\\trainingfile\\\\ADVISE2.pdf', 'page': 3}, page_content='• Prerequisites for CET 3615 are MAT 1575, CET 3525, and PHYS 1434 or PHYS 1442.  \\n• The prerequisite of CET 3625 is CET 3525 . \\n• Prerequisite or corequisite of CET 3625 is MAT 2680 . \\n• The prerequisites of CET 3640 are CET 2411  and CET 3510 . \\n \\nSeventh Semester: \\nThe classes available for the seventh semester are:  \\n1. CET 4711 (2 cr) \\n2. MAT 2580  (3 cr) \\n3. CET 4705 (2 cr) \\n4. CET 4773 (4 cr) \\n5. T echnical elective 1 (4 cr) \\n6. Flex Core 4 \\nThe prerequisites are as follows: \\n• Prerequisite and co-requisite of CET 4711 are CET 3640  and CET 4705  \\n• Prerequisite of CET 4705 is CET 3625 with a grade of C or better. \\n• Prerequisite of CET 4773 is CET 3510.  \\n• Prerequisite or Corequisite of MAT 2580 is MAT 1575.  \\n \\nEighth Semester: \\nThe classes available for the eighth semester are: \\n1. Technical Elective 2 (3 cr) \\n2. CET 4811  (2 cr) \\n3. CET 4805 (2 cr) \\n4. CET 4864 (4 cr). \\n5. ID Course \\nThe prerequisites and corequisites are as follows: \\n• Prerequisites of CET 4811 are CET 3640 , CET 4711 . \\n• Prerequisites or corequisite of EMT 4811 are CET 4773, CET 4805, CET 4864 .  \\n• Prerequisite of CET 4805 is CET 4705  \\n• Prerequisites of CET 4864 are CET 3625, MAT 2580')]"
      ]
     },
     "execution_count": 8,
     "metadata": {},
     "output_type": "execute_result"
    }
   ],
   "source": [
    "documents"
   ]
  },
  {
   "cell_type": "code",
   "execution_count": null,
   "metadata": {},
   "outputs": [],
   "source": []
  },
  {
   "cell_type": "code",
   "execution_count": 17,
   "metadata": {},
   "outputs": [],
   "source": [
    "from langchain_openai import ChatOpenAI\n",
    "\n",
    "llm = ChatOpenAI(\n",
    "    model=\"gpt-4o\",\n",
    "    temperature=0,\n",
    "    max_tokens=None,\n",
    "    timeout=None,\n",
    "    max_retries=2,\n",
    "\n",
    ")"
   ]
  },
  {
   "cell_type": "code",
   "execution_count": 18,
   "metadata": {
    "colab": {
     "base_uri": "https://localhost:8080/"
    },
    "id": "_f-i7dL4ktdG",
    "outputId": "2eb957b5-b712-45bf-a27a-2be14b96220f"
   },
   "outputs": [
    {
     "name": "stdout",
     "output_type": "stream",
     "text": [
      "In the garden of whispers, where roses bloom bright,  \n",
      "Love dances softly in the gentle moonlight.  \n",
      "A tapestry woven with threads of the heart,  \n",
      "A symphony playing where souls never part.  \n",
      "\n",
      "It whispers in breezes that rustle the leaves,  \n",
      "A promise eternal that never deceives.  \n",
      "In the eyes of a lover, a universe gleams,  \n",
      "A world full of wonder, of hopes, and of dreams.  \n",
      "\n",
      "It's the warmth of a hand, the comfort of home,  \n",
      "A lighthouse that guides when the wild oceans roam.  \n",
      "In laughter and tears, in silence and song,  \n",
      "Love is the melody that carries us along.  \n",
      "\n",
      "Through seasons of change, both bitter and sweet,  \n",
      "Love is the journey where two hearts meet.  \n",
      "A flame ever burning, a star in the night,  \n",
      "Love is the beacon, the purest of light.  \n",
      "\n",
      "So cherish its presence, this gift from above,  \n",
      "For life is but fleeting, but endless is love.\n"
     ]
    }
   ],
   "source": [
    "print(llm.invoke(\"give me a poem about love\").content)"
   ]
  },
  {
   "cell_type": "code",
   "execution_count": 13,
   "metadata": {
    "colab": {
     "base_uri": "https://localhost:8080/"
    },
    "id": "99M_OrojajNR",
    "outputId": "d529bc49-447b-4818-a591-a5e7d6ee8fa3"
   },
   "outputs": [
    {
     "name": "stdout",
     "output_type": "stream",
     "text": [
      "Note: you may need to restart the kernel to use updated packages.\n"
     ]
    },
    {
     "name": "stderr",
     "output_type": "stream",
     "text": [
      "\n",
      "[notice] A new release of pip is available: 24.0 -> 24.3.1\n",
      "[notice] To update, run: c:\\Users\\PMLS\\.pyenv\\pyenv-win\\versions\\3.11.8\\python.exe -m pip install --upgrade pip\n"
     ]
    }
   ],
   "source": [
    "%pip install --upgrade --quiet langchain-community unstructured openpyxl"
   ]
  },
  {
   "cell_type": "code",
   "execution_count": 15,
   "metadata": {
    "colab": {
     "base_uri": "https://localhost:8080/"
    },
    "id": "F1JbDnWhvljf",
    "outputId": "e32b028c-7e2f-42ae-d466-3d67c2a966fe"
   },
   "outputs": [
    {
     "name": "stdout",
     "output_type": "stream",
     "text": [
      "Requirement already satisfied: faiss-cpu in c:\\users\\pmls\\appdata\\roaming\\python\\python311\\site-packages (1.8.0.post1)\n",
      "Requirement already satisfied: numpy<2.0,>=1.0 in c:\\users\\pmls\\appdata\\roaming\\python\\python311\\site-packages (from faiss-cpu) (1.26.4)\n",
      "Requirement already satisfied: packaging in c:\\users\\pmls\\appdata\\roaming\\python\\python311\\site-packages (from faiss-cpu) (23.2)\n",
      "Note: you may need to restart the kernel to use updated packages.\n"
     ]
    },
    {
     "name": "stderr",
     "output_type": "stream",
     "text": [
      "WARNING: Skipping c:\\Users\\PMLS\\.pyenv\\pyenv-win\\versions\\3.11.8\\Lib\\site-packages\\langchain-0.3.7.dist-info due to invalid metadata entry 'name'\n",
      "WARNING: Skipping c:\\Users\\PMLS\\.pyenv\\pyenv-win\\versions\\3.11.8\\Lib\\site-packages\\langchain-0.3.7.dist-info due to invalid metadata entry 'name'\n",
      "WARNING: Skipping c:\\Users\\PMLS\\.pyenv\\pyenv-win\\versions\\3.11.8\\Lib\\site-packages\\langchain-0.3.7.dist-info due to invalid metadata entry 'name'\n",
      "WARNING: Skipping c:\\Users\\PMLS\\.pyenv\\pyenv-win\\versions\\3.11.8\\Lib\\site-packages\\langchain-0.3.7.dist-info due to invalid metadata entry 'name'\n",
      "WARNING: Skipping c:\\Users\\PMLS\\.pyenv\\pyenv-win\\versions\\3.11.8\\Lib\\site-packages\\langchain-0.3.7.dist-info due to invalid metadata entry 'name'\n",
      "WARNING: Skipping c:\\Users\\PMLS\\.pyenv\\pyenv-win\\versions\\3.11.8\\Lib\\site-packages\\langchain-0.3.7.dist-info due to invalid metadata entry 'name'\n",
      "\n",
      "[notice] A new release of pip is available: 24.0 -> 24.3.1\n",
      "[notice] To update, run: c:\\Users\\PMLS\\.pyenv\\pyenv-win\\versions\\3.11.8\\python.exe -m pip install --upgrade pip\n"
     ]
    }
   ],
   "source": [
    "%pip install faiss-cpu"
   ]
  },
  {
   "cell_type": "code",
   "execution_count": 11,
   "metadata": {
    "id": "_dbTVfljvDY4"
   },
   "outputs": [],
   "source": [
    "from langchain_community.vectorstores import FAISS"
   ]
  },
  {
   "cell_type": "code",
   "execution_count": null,
   "metadata": {},
   "outputs": [],
   "source": []
  },
  {
   "cell_type": "code",
   "execution_count": 12,
   "metadata": {
    "id": "sY30zQXUvCWl"
   },
   "outputs": [],
   "source": [
    "vector = FAISS.from_documents(documents, embeddings)"
   ]
  },
  {
   "cell_type": "code",
   "execution_count": 13,
   "metadata": {},
   "outputs": [
    {
     "data": {
      "text/plain": [
       "<langchain_community.vectorstores.faiss.FAISS at 0x20d0598a3d0>"
      ]
     },
     "execution_count": 13,
     "metadata": {},
     "output_type": "execute_result"
    }
   ],
   "source": [
    "vector"
   ]
  },
  {
   "cell_type": "code",
   "execution_count": 14,
   "metadata": {
    "id": "nHDvLMFZ1EQR"
   },
   "outputs": [],
   "source": [
    "vector.save_local(\"faissindexupdate6\")"
   ]
  },
  {
   "cell_type": "code",
   "execution_count": null,
   "metadata": {
    "id": "S7mIyrvsnmcg"
   },
   "outputs": [],
   "source": []
  }
 ],
 "metadata": {
  "accelerator": "GPU",
  "colab": {
   "gpuType": "L4",
   "machine_shape": "hm",
   "provenance": []
  },
  "kernelspec": {
   "display_name": "myenv",
   "language": "python",
   "name": "python3"
  },
  "language_info": {
   "codemirror_mode": {
    "name": "ipython",
    "version": 3
   },
   "file_extension": ".py",
   "mimetype": "text/x-python",
   "name": "python",
   "nbconvert_exporter": "python",
   "pygments_lexer": "ipython3",
   "version": "3.11.8"
  }
 },
 "nbformat": 4,
 "nbformat_minor": 0
}
